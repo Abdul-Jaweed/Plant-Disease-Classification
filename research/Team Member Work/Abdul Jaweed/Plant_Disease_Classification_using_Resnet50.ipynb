{
  "nbformat": 4,
  "nbformat_minor": 0,
  "metadata": {
    "colab": {
      "provenance": [],
      "gpuType": "T4"
    },
    "kernelspec": {
      "name": "python3",
      "display_name": "Python 3"
    },
    "language_info": {
      "name": "python"
    },
    "accelerator": "GPU"
  },
  "cells": [
    {
      "cell_type": "code",
      "source": [
        "!pip install kaggle"
      ],
      "metadata": {
        "colab": {
          "base_uri": "https://localhost:8080/"
        },
        "id": "ywuifZQ6G55b",
        "outputId": "4a1ad98b-786a-45a9-df10-532869d58ec9"
      },
      "execution_count": 1,
      "outputs": [
        {
          "output_type": "stream",
          "name": "stdout",
          "text": [
            "Looking in indexes: https://pypi.org/simple, https://us-python.pkg.dev/colab-wheels/public/simple/\n",
            "Requirement already satisfied: kaggle in /usr/local/lib/python3.10/dist-packages (1.5.13)\n",
            "Requirement already satisfied: six>=1.10 in /usr/local/lib/python3.10/dist-packages (from kaggle) (1.16.0)\n",
            "Requirement already satisfied: certifi in /usr/local/lib/python3.10/dist-packages (from kaggle) (2022.12.7)\n",
            "Requirement already satisfied: python-dateutil in /usr/local/lib/python3.10/dist-packages (from kaggle) (2.8.2)\n",
            "Requirement already satisfied: requests in /usr/local/lib/python3.10/dist-packages (from kaggle) (2.27.1)\n",
            "Requirement already satisfied: tqdm in /usr/local/lib/python3.10/dist-packages (from kaggle) (4.65.0)\n",
            "Requirement already satisfied: python-slugify in /usr/local/lib/python3.10/dist-packages (from kaggle) (8.0.1)\n",
            "Requirement already satisfied: urllib3 in /usr/local/lib/python3.10/dist-packages (from kaggle) (1.26.15)\n",
            "Requirement already satisfied: text-unidecode>=1.3 in /usr/local/lib/python3.10/dist-packages (from python-slugify->kaggle) (1.3)\n",
            "Requirement already satisfied: charset-normalizer~=2.0.0 in /usr/local/lib/python3.10/dist-packages (from requests->kaggle) (2.0.12)\n",
            "Requirement already satisfied: idna<4,>=2.5 in /usr/local/lib/python3.10/dist-packages (from requests->kaggle) (3.4)\n"
          ]
        }
      ]
    },
    {
      "cell_type": "code",
      "source": [
        "from google.colab import files\n",
        "files.upload()"
      ],
      "metadata": {
        "id": "UyruU6u7Dicr"
      },
      "execution_count": null,
      "outputs": []
    },
    {
      "cell_type": "code",
      "source": [
        "!mkdir -p ~/.kaggle\n",
        "!mv kaggle\\.json ~/.kaggle/kaggle.json\n",
        "!chmod 600 ~/.kaggle/kaggle.json"
      ],
      "metadata": {
        "id": "5wuyt_YzG5yJ"
      },
      "execution_count": 4,
      "outputs": []
    },
    {
      "cell_type": "code",
      "source": [
        "!kaggle datasets download -d vipoooool/new-plant-diseases-dataset"
      ],
      "metadata": {
        "colab": {
          "base_uri": "https://localhost:8080/"
        },
        "id": "Es7bdlp7G5tN",
        "outputId": "3045da10-c64f-4520-cb8d-c9ea56523534"
      },
      "execution_count": 5,
      "outputs": [
        {
          "output_type": "stream",
          "name": "stdout",
          "text": [
            "Downloading new-plant-diseases-dataset.zip to /content\n",
            "100% 2.70G/2.70G [01:17<00:00, 45.4MB/s]\n",
            "100% 2.70G/2.70G [01:17<00:00, 37.5MB/s]\n"
          ]
        }
      ]
    },
    {
      "cell_type": "code",
      "source": [
        "!unzip -q new-plant-diseases-dataset.zip"
      ],
      "metadata": {
        "id": "OHOKY6InG5nW"
      },
      "execution_count": 6,
      "outputs": []
    },
    {
      "cell_type": "markdown",
      "source": [
        "# Import Libraries"
      ],
      "metadata": {
        "id": "B8Zc7qR_GSeR"
      }
    },
    {
      "cell_type": "code",
      "execution_count": 7,
      "metadata": {
        "id": "tZCr9ZrtGFgr"
      },
      "outputs": [],
      "source": [
        "import tensorflow as tf\n",
        "from tensorflow.keras.applications import ResNet50\n",
        "from tensorflow.keras.layers import Dense, Flatten, Dropout, BatchNormalization\n",
        "from tensorflow.keras.models import Sequential"
      ]
    },
    {
      "cell_type": "markdown",
      "source": [
        "# Define Batch Specifications"
      ],
      "metadata": {
        "id": "kYvt1sE9GvcU"
      }
    },
    {
      "cell_type": "code",
      "source": [
        "## Defining batch specfications\n",
        "\n",
        "# batch_size = 100\n",
        "batch_size = 32 \n",
        "img_height = 250\n",
        "img_width = 250"
      ],
      "metadata": {
        "id": "5OGrXnI1GT5Q"
      },
      "execution_count": 8,
      "outputs": []
    },
    {
      "cell_type": "code",
      "source": [
        "from tensorflow.keras import mixed_precision\n",
        "\n",
        "# Enable mixed precision\n",
        "mixed_precision.set_global_policy('mixed_float16')"
      ],
      "metadata": {
        "id": "CjxECe9DWF78"
      },
      "execution_count": 9,
      "outputs": []
    },
    {
      "cell_type": "markdown",
      "source": [
        "# Load the Dataset"
      ],
      "metadata": {
        "id": "akhJrj0SG1Jz"
      }
    },
    {
      "cell_type": "code",
      "source": [
        "training_data = tf.keras.preprocessing.image_dataset_from_directory(\"/content/New Plant Diseases Dataset(Augmented)/New Plant Diseases Dataset(Augmented)/train\",\n",
        "    seed=42,\n",
        "    image_size= (img_height, img_width),\n",
        "    batch_size=batch_size\n",
        ")"
      ],
      "metadata": {
        "colab": {
          "base_uri": "https://localhost:8080/"
        },
        "id": "f6Q1tmxYGy37",
        "outputId": "9d606da5-9dfc-4f62-b1ac-2324934b4681"
      },
      "execution_count": 10,
      "outputs": [
        {
          "output_type": "stream",
          "name": "stdout",
          "text": [
            "Found 70295 files belonging to 38 classes.\n"
          ]
        }
      ]
    },
    {
      "cell_type": "code",
      "source": [
        "new_training_data = tf.keras.preprocessing.image_dataset_from_directory(\"/content/new plant diseases dataset(augmented)/New Plant Diseases Dataset(Augmented)/train\",\n",
        "    seed=42,\n",
        "    image_size= (img_height, img_width),\n",
        "    batch_size=batch_size\n",
        ")"
      ],
      "metadata": {
        "colab": {
          "base_uri": "https://localhost:8080/"
        },
        "id": "cZ3n2ENxWw0H",
        "outputId": "07431105-0217-4130-cbe0-6d5e88b19939"
      },
      "execution_count": 12,
      "outputs": [
        {
          "output_type": "stream",
          "name": "stdout",
          "text": [
            "Found 70295 files belonging to 38 classes.\n"
          ]
        }
      ]
    },
    {
      "cell_type": "markdown",
      "source": [
        "# Getting the Validation Data"
      ],
      "metadata": {
        "id": "jCkWKQH1JaSn"
      }
    },
    {
      "cell_type": "code",
      "source": [
        "validation_data = tf.keras.preprocessing.image_dataset_from_directory(\"/content/New Plant Diseases Dataset(Augmented)/New Plant Diseases Dataset(Augmented)/valid\",\n",
        "    seed=42,\n",
        "    image_size= (img_height, img_width),\n",
        "    batch_size=batch_size\n",
        ")"
      ],
      "metadata": {
        "colab": {
          "base_uri": "https://localhost:8080/"
        },
        "id": "j3EWk4oHJZ3O",
        "outputId": "4d596f8a-9230-4af6-8951-4c5f0520ea0b"
      },
      "execution_count": 13,
      "outputs": [
        {
          "output_type": "stream",
          "name": "stdout",
          "text": [
            "Found 17572 files belonging to 38 classes.\n"
          ]
        }
      ]
    },
    {
      "cell_type": "markdown",
      "source": [
        "# Storing the Label Names"
      ],
      "metadata": {
        "id": "onNJJc97Ifm_"
      }
    },
    {
      "cell_type": "code",
      "source": [
        "target_names = training_data.class_names\n",
        "print(target_names)"
      ],
      "metadata": {
        "colab": {
          "base_uri": "https://localhost:8080/"
        },
        "id": "CNZ8i-_OIcbg",
        "outputId": "ab1744ea-7b7c-4fdf-99b2-d581870790aa"
      },
      "execution_count": 14,
      "outputs": [
        {
          "output_type": "stream",
          "name": "stdout",
          "text": [
            "['Apple___Apple_scab', 'Apple___Black_rot', 'Apple___Cedar_apple_rust', 'Apple___healthy', 'Blueberry___healthy', 'Cherry_(including_sour)___Powdery_mildew', 'Cherry_(including_sour)___healthy', 'Corn_(maize)___Cercospora_leaf_spot Gray_leaf_spot', 'Corn_(maize)___Common_rust_', 'Corn_(maize)___Northern_Leaf_Blight', 'Corn_(maize)___healthy', 'Grape___Black_rot', 'Grape___Esca_(Black_Measles)', 'Grape___Leaf_blight_(Isariopsis_Leaf_Spot)', 'Grape___healthy', 'Orange___Haunglongbing_(Citrus_greening)', 'Peach___Bacterial_spot', 'Peach___healthy', 'Pepper,_bell___Bacterial_spot', 'Pepper,_bell___healthy', 'Potato___Early_blight', 'Potato___Late_blight', 'Potato___healthy', 'Raspberry___healthy', 'Soybean___healthy', 'Squash___Powdery_mildew', 'Strawberry___Leaf_scorch', 'Strawberry___healthy', 'Tomato___Bacterial_spot', 'Tomato___Early_blight', 'Tomato___Late_blight', 'Tomato___Leaf_Mold', 'Tomato___Septoria_leaf_spot', 'Tomato___Spider_mites Two-spotted_spider_mite', 'Tomato___Target_Spot', 'Tomato___Tomato_Yellow_Leaf_Curl_Virus', 'Tomato___Tomato_mosaic_virus', 'Tomato___healthy']\n"
          ]
        }
      ]
    },
    {
      "cell_type": "markdown",
      "source": [
        "# Building ResNet50 Architecture"
      ],
      "metadata": {
        "id": "Z7M8FmBWIjjg"
      }
    },
    {
      "cell_type": "code",
      "source": [
        "# Building ResNet-50 Architecture\n",
        "base_model = ResNet50(include_top=False, weights='imagenet', input_shape=(img_height, img_width, 3))\n",
        "\n",
        "model = Sequential()\n",
        "model.add(base_model)\n",
        "model.add(Flatten())\n",
        "model.add(Dense(4096))\n",
        "model.add(BatchNormalization())\n",
        "model.add(Dense(4096))\n",
        "model.add(BatchNormalization())\n",
        "model.add(Dense(len(target_names), activation='softmax'))\n",
        "model.summary()"
      ],
      "metadata": {
        "colab": {
          "base_uri": "https://localhost:8080/"
        },
        "id": "pweWwbPvIcXJ",
        "outputId": "7be5917d-521a-4a1b-823e-9f76f6113fb7"
      },
      "execution_count": 15,
      "outputs": [
        {
          "output_type": "stream",
          "name": "stdout",
          "text": [
            "Downloading data from https://storage.googleapis.com/tensorflow/keras-applications/resnet/resnet50_weights_tf_dim_ordering_tf_kernels_notop.h5\n",
            "94765736/94765736 [==============================] - 3s 0us/step\n",
            "Model: \"sequential\"\n",
            "_________________________________________________________________\n",
            " Layer (type)                Output Shape              Param #   \n",
            "=================================================================\n",
            " resnet50 (Functional)       (None, 8, 8, 2048)        23587712  \n",
            "                                                                 \n",
            " flatten (Flatten)           (None, 131072)            0         \n",
            "                                                                 \n",
            " dense (Dense)               (None, 4096)              536875008 \n",
            "                                                                 \n",
            " batch_normalization (BatchN  (None, 4096)             16384     \n",
            " ormalization)                                                   \n",
            "                                                                 \n",
            " dense_1 (Dense)             (None, 4096)              16781312  \n",
            "                                                                 \n",
            " batch_normalization_1 (Batc  (None, 4096)             16384     \n",
            " hNormalization)                                                 \n",
            "                                                                 \n",
            " dense_2 (Dense)             (None, 38)                155686    \n",
            "                                                                 \n",
            "=================================================================\n",
            "Total params: 577,432,486\n",
            "Trainable params: 577,362,982\n",
            "Non-trainable params: 69,504\n",
            "_________________________________________________________________\n"
          ]
        }
      ]
    },
    {
      "cell_type": "markdown",
      "source": [
        "# Compile the Model"
      ],
      "metadata": {
        "id": "GhG2-UrnIqqZ"
      }
    },
    {
      "cell_type": "code",
      "source": [
        "model.compile(optimizer='adam',loss='sparse_categorical_crossentropy', metrics=['accuracy'])"
      ],
      "metadata": {
        "id": "nHWLRDDoIcWQ"
      },
      "execution_count": 16,
      "outputs": []
    },
    {
      "cell_type": "markdown",
      "source": [
        "# Training and Validation"
      ],
      "metadata": {
        "id": "dpYsTwlPIvuJ"
      }
    },
    {
      "cell_type": "code",
      "source": [
        "history = model.fit(training_data,validation_data= validation_data,epochs = 10)"
      ],
      "metadata": {
        "colab": {
          "base_uri": "https://localhost:8080/"
        },
        "id": "PWPDT_gKIcRQ",
        "outputId": "75821ad1-faf0-4982-912f-e2285ac17ce3"
      },
      "execution_count": 17,
      "outputs": [
        {
          "output_type": "stream",
          "name": "stdout",
          "text": [
            "Epoch 1/10\n",
            "2197/2197 [==============================] - 868s 379ms/step - loss: 1.5008 - accuracy: 0.7262 - val_loss: 3.1056 - val_accuracy: 0.5499\n",
            "Epoch 2/10\n",
            "2197/2197 [==============================] - 811s 369ms/step - loss: 0.4390 - accuracy: 0.8960 - val_loss: 1.5400 - val_accuracy: 0.7322\n",
            "Epoch 3/10\n",
            "2197/2197 [==============================] - 808s 368ms/step - loss: 0.3131 - accuracy: 0.9263 - val_loss: 0.6311 - val_accuracy: 0.8809\n",
            "Epoch 4/10\n",
            "2197/2197 [==============================] - 808s 367ms/step - loss: 0.1862 - accuracy: 0.9507 - val_loss: 0.6116 - val_accuracy: 0.8747\n",
            "Epoch 5/10\n",
            "2197/2197 [==============================] - 808s 367ms/step - loss: 0.1521 - accuracy: 0.9614 - val_loss: 0.4042 - val_accuracy: 0.9045\n",
            "Epoch 6/10\n",
            "2197/2197 [==============================] - 811s 369ms/step - loss: 0.1029 - accuracy: 0.9708 - val_loss: 0.7692 - val_accuracy: 0.8265\n",
            "Epoch 7/10\n",
            "2197/2197 [==============================] - 812s 369ms/step - loss: 0.0771 - accuracy: 0.9770 - val_loss: 0.3871 - val_accuracy: 0.9138\n",
            "Epoch 8/10\n",
            "2197/2197 [==============================] - 812s 369ms/step - loss: 0.0571 - accuracy: 0.9830 - val_loss: 0.8354 - val_accuracy: 0.8450\n",
            "Epoch 9/10\n",
            "2197/2197 [==============================] - 811s 369ms/step - loss: 0.0512 - accuracy: 0.9839 - val_loss: 0.1750 - val_accuracy: 0.9524\n",
            "Epoch 10/10\n",
            "2197/2197 [==============================] - 812s 370ms/step - loss: 0.0399 - accuracy: 0.9875 - val_loss: 0.7557 - val_accuracy: 0.8561\n"
          ]
        }
      ]
    },
    {
      "cell_type": "code",
      "source": [],
      "metadata": {
        "id": "rp1AbEQKIcOi"
      },
      "execution_count": null,
      "outputs": []
    },
    {
      "cell_type": "code",
      "source": [],
      "metadata": {
        "id": "SEsEwVA_IcKX"
      },
      "execution_count": null,
      "outputs": []
    },
    {
      "cell_type": "code",
      "source": [],
      "metadata": {
        "id": "DoH0pFmeIcCA"
      },
      "execution_count": null,
      "outputs": []
    }
  ]
}