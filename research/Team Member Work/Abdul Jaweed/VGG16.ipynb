{
 "cells": [
  {
   "cell_type": "code",
   "execution_count": 1,
   "id": "a9df6e8e",
   "metadata": {},
   "outputs": [],
   "source": [
    "import os\n",
    "import numpy as np\n",
    "from tensorflow.keras.preprocessing.image import ImageDataGenerator\n",
    "from tensorflow.keras.applications import VGG16\n",
    "from tensorflow.keras.models import Sequential\n",
    "from tensorflow.keras.layers import Dense, GlobalAveragePooling2D\n",
    "from tensorflow.keras.optimizers import Adam"
   ]
  },
  {
   "cell_type": "code",
   "execution_count": 2,
   "id": "b6023a52",
   "metadata": {},
   "outputs": [],
   "source": [
    "# Set the path to your dataset\n",
    "\n",
    "data_dir = \"F:\\\\Plant Disease Classification\\\\mini\\\\train\""
   ]
  },
  {
   "cell_type": "code",
   "execution_count": 3,
   "id": "4822faac",
   "metadata": {},
   "outputs": [],
   "source": [
    "# Set the input size of the model\n",
    "\n",
    "input_size = (224, 224)"
   ]
  },
  {
   "cell_type": "code",
   "execution_count": 4,
   "id": "adfbf52d",
   "metadata": {},
   "outputs": [],
   "source": [
    "# Set the batch size and number of classes\n",
    "\n",
    "batch_size = 32\n",
    "num_classes = 38"
   ]
  },
  {
   "cell_type": "code",
   "execution_count": 5,
   "id": "2e493dd3",
   "metadata": {},
   "outputs": [],
   "source": [
    "# Preprocess the input images\n",
    "\n",
    "data_generator = ImageDataGenerator(rescale=1./255, validation_split=0.2)"
   ]
  },
  {
   "cell_type": "code",
   "execution_count": 6,
   "id": "68609f96",
   "metadata": {},
   "outputs": [
    {
     "name": "stdout",
     "output_type": "stream",
     "text": [
      "Found 6080 images belonging to 38 classes.\n"
     ]
    }
   ],
   "source": [
    "# Load and augment the training data\n",
    "\n",
    "train_generator = data_generator.flow_from_directory(\n",
    "    data_dir,\n",
    "    target_size=input_size,\n",
    "    batch_size=batch_size,\n",
    "    class_mode='categorical',\n",
    "    subset='training'\n",
    ")"
   ]
  },
  {
   "cell_type": "code",
   "execution_count": 7,
   "id": "6a6ca95f",
   "metadata": {},
   "outputs": [
    {
     "name": "stdout",
     "output_type": "stream",
     "text": [
      "Found 1520 images belonging to 38 classes.\n"
     ]
    }
   ],
   "source": [
    "# Load the validation data\n",
    "\n",
    "validation_generator = data_generator.flow_from_directory(\n",
    "    data_dir,\n",
    "    target_size=input_size,\n",
    "    batch_size=batch_size,\n",
    "    class_mode='categorical',\n",
    "    subset='validation'\n",
    ")"
   ]
  },
  {
   "cell_type": "code",
   "execution_count": 8,
   "id": "b5eaeb58",
   "metadata": {},
   "outputs": [],
   "source": [
    "# Load the pre-trained VGG16 model without the top (classification) layer\n",
    "\n",
    "vgg_model = VGG16(weights='imagenet', include_top=False, input_shape=input_size + (3,))"
   ]
  },
  {
   "cell_type": "code",
   "execution_count": 9,
   "id": "adad2a46",
   "metadata": {},
   "outputs": [],
   "source": [
    "# Freeze the pre-trained layers\n",
    "\n",
    "for layer in vgg_model.layers:\n",
    "    layer.trainable = False"
   ]
  },
  {
   "cell_type": "code",
   "execution_count": 10,
   "id": "1b979904",
   "metadata": {},
   "outputs": [],
   "source": [
    "# Create the final model\n",
    "\n",
    "vgg_classifier = Sequential()\n",
    "vgg_classifier.add(vgg_model)\n",
    "vgg_classifier.add(GlobalAveragePooling2D())\n",
    "vgg_classifier.add(Dense(512, activation='relu'))\n",
    "vgg_classifier.add(Dense(num_classes, activation='softmax'))"
   ]
  },
  {
   "cell_type": "code",
   "execution_count": 11,
   "id": "f846de41",
   "metadata": {},
   "outputs": [],
   "source": [
    "# Compile the model\n",
    "\n",
    "vgg_classifier.compile(optimizer=Adam(), loss='categorical_crossentropy', metrics=['accuracy'])"
   ]
  },
  {
   "cell_type": "code",
   "execution_count": 12,
   "id": "9408236a",
   "metadata": {},
   "outputs": [
    {
     "name": "stdout",
     "output_type": "stream",
     "text": [
      "190/190 [==============================] - 1725s 9s/step - loss: 2.5206 - accuracy: 0.3905 - val_loss: 1.5857 - val_accuracy: 0.6283\n"
     ]
    }
   ],
   "source": [
    "# Train the VGG16 model\n",
    "\n",
    "history = vgg_classifier.fit(\n",
    "    train_generator,\n",
    "    steps_per_epoch=train_generator.samples // batch_size,\n",
    "    validation_data=validation_generator,\n",
    "    validation_steps=validation_generator.samples // batch_size,\n",
    "    epochs=1\n",
    ")"
   ]
  },
  {
   "cell_type": "code",
   "execution_count": 15,
   "id": "f4569991",
   "metadata": {},
   "outputs": [],
   "source": [
    "# Get the validation accuracy from the history object\n",
    "\n",
    "validation_accuracy = history.history['val_accuracy']"
   ]
  },
  {
   "cell_type": "code",
   "execution_count": 16,
   "id": "707326e7",
   "metadata": {},
   "outputs": [
    {
     "name": "stdout",
     "output_type": "stream",
     "text": [
      "Validation Accuracy: [0.6283244490623474]\n"
     ]
    }
   ],
   "source": [
    "print(\"Validation Accuracy:\", validation_accuracy)"
   ]
  },
  {
   "cell_type": "code",
   "execution_count": 17,
   "id": "fee5e2a9",
   "metadata": {},
   "outputs": [
    {
     "name": "stdout",
     "output_type": "stream",
     "text": [
      "Found 380 images belonging to 38 classes.\n"
     ]
    }
   ],
   "source": [
    "# Set the path to your test dataset directory\n",
    "\n",
    "test_dir = \"F:\\\\Plant Disease Classification\\\\mini\\\\test\"\n",
    "\n",
    "# Load the test data\n",
    "\n",
    "test_generator = data_generator.flow_from_directory(\n",
    "    test_dir,\n",
    "    target_size=input_size,\n",
    "    batch_size=batch_size,\n",
    "    class_mode='categorical',\n",
    "    shuffle=False\n",
    ")"
   ]
  },
  {
   "cell_type": "code",
   "execution_count": 20,
   "id": "a80e0e02",
   "metadata": {},
   "outputs": [
    {
     "name": "stdout",
     "output_type": "stream",
     "text": [
      "12/12 [==============================] - 78s 7s/step - loss: 1.5269 - accuracy: 0.6500\n"
     ]
    }
   ],
   "source": [
    "# Evaluate the VGG16 model on the test data\n",
    "\n",
    "evaluation = vgg_classifier.evaluate(test_generator)\n",
    "\n",
    "# Get the evaluation score (accuracy)\n",
    "\n",
    "evaluation_score = evaluation[1]  # Index 1 corresponds to the accuracy value"
   ]
  },
  {
   "cell_type": "code",
   "execution_count": 21,
   "id": "3cc27e3b",
   "metadata": {},
   "outputs": [
    {
     "name": "stdout",
     "output_type": "stream",
     "text": [
      "Evaluation Accuracy: 0.6499999761581421\n"
     ]
    }
   ],
   "source": [
    "print(\"Evaluation Accuracy:\", evaluation_score)"
   ]
  },
  {
   "cell_type": "code",
   "execution_count": null,
   "id": "fa90b34c",
   "metadata": {},
   "outputs": [],
   "source": []
  },
  {
   "cell_type": "markdown",
   "id": "c4177a71",
   "metadata": {},
   "source": [
    "# Epoch = 5"
   ]
  },
  {
   "cell_type": "code",
   "execution_count": null,
   "id": "6912c19a",
   "metadata": {},
   "outputs": [],
   "source": [
    "# Train the VGG16 model\n",
    "\n",
    "history = vgg_classifier.fit(\n",
    "    train_generator,\n",
    "    steps_per_epoch=train_generator.samples // batch_size,\n",
    "    validation_data=validation_generator,\n",
    "    validation_steps=validation_generator.samples // batch_size,\n",
    "    epochs=5\n",
    ")"
   ]
  },
  {
   "cell_type": "code",
   "execution_count": null,
   "id": "73c3ada7",
   "metadata": {},
   "outputs": [],
   "source": [
    "# Get the validation accuracy from the history object\n",
    "\n",
    "validation_accuracy = history.history['val_accuracy']\n",
    "\n",
    "print(\"Validation Accuracy:\", validation_accuracy)"
   ]
  },
  {
   "cell_type": "code",
   "execution_count": null,
   "id": "d0cb1e07",
   "metadata": {},
   "outputs": [],
   "source": [
    "# Set the path to your test dataset directory\n",
    "\n",
    "test_dir = \"F:\\\\Plant Disease Classification\\\\mini\\\\test\"\n",
    "\n",
    "# Load the test data\n",
    "\n",
    "test_generator = data_generator.flow_from_directory(\n",
    "    test_dir,\n",
    "    target_size=input_size,\n",
    "    batch_size=batch_size,\n",
    "    class_mode='categorical',\n",
    "    shuffle=False\n",
    ")"
   ]
  },
  {
   "cell_type": "code",
   "execution_count": null,
   "id": "294b1c7a",
   "metadata": {},
   "outputs": [],
   "source": [
    "# Evaluate the VGG16 model on the test data\n",
    "\n",
    "evaluation = vgg_classifier.evaluate(test_generator)\n",
    "\n",
    "# Get the evaluation score (accuracy)\n",
    "\n",
    "evaluation_score = evaluation[1]  # Index 1 corresponds to the accuracy value"
   ]
  },
  {
   "cell_type": "code",
   "execution_count": null,
   "id": "10b84cf8",
   "metadata": {},
   "outputs": [],
   "source": [
    "print(\"Evaluation Accuracy:\", evaluation_score)"
   ]
  },
  {
   "cell_type": "code",
   "execution_count": null,
   "id": "4f3c42d9",
   "metadata": {},
   "outputs": [],
   "source": []
  },
  {
   "cell_type": "markdown",
   "id": "99b311be",
   "metadata": {},
   "source": [
    "# Epochs = 10"
   ]
  },
  {
   "cell_type": "code",
   "execution_count": null,
   "id": "908a8f61",
   "metadata": {},
   "outputs": [],
   "source": [
    "# Train the VGG16 model\n",
    "\n",
    "history = vgg_classifier.fit(\n",
    "    train_generator,\n",
    "    steps_per_epoch=train_generator.samples // batch_size,\n",
    "    validation_data=validation_generator,\n",
    "    validation_steps=validation_generator.samples // batch_size,\n",
    "    epochs=10\n",
    ")"
   ]
  },
  {
   "cell_type": "code",
   "execution_count": null,
   "id": "b6c5a126",
   "metadata": {},
   "outputs": [],
   "source": [
    "# Get the validation accuracy from the history object\n",
    "\n",
    "validation_accuracy = history.history['val_accuracy']\n",
    "\n",
    "print(\"Validation Accuracy:\", validation_accuracy)"
   ]
  },
  {
   "cell_type": "code",
   "execution_count": null,
   "id": "114661e1",
   "metadata": {},
   "outputs": [],
   "source": [
    "# Set the path to your test dataset directory\n",
    "\n",
    "test_dir = \"F:\\\\Plant Disease Classification\\\\mini\\\\test\"\n",
    "\n",
    "# Load the test data\n",
    "\n",
    "test_generator = data_generator.flow_from_directory(\n",
    "    test_dir,\n",
    "    target_size=input_size,\n",
    "    batch_size=batch_size,\n",
    "    class_mode='categorical',\n",
    "    shuffle=False\n",
    ")"
   ]
  },
  {
   "cell_type": "code",
   "execution_count": null,
   "id": "75a9f36b",
   "metadata": {},
   "outputs": [],
   "source": [
    "# Evaluate the VGG16 model on the test data\n",
    "\n",
    "evaluation = vgg_classifier.evaluate(test_generator)\n",
    "\n",
    "# Get the evaluation score (accuracy)\n",
    "\n",
    "evaluation_score = evaluation[1]  # Index 1 corresponds to the accuracy value"
   ]
  },
  {
   "cell_type": "code",
   "execution_count": null,
   "id": "dc8bb660",
   "metadata": {},
   "outputs": [],
   "source": [
    "print(\"Evaluation Accuracy:\", evaluation_score)"
   ]
  },
  {
   "cell_type": "code",
   "execution_count": null,
   "id": "1b4fc1e1",
   "metadata": {},
   "outputs": [],
   "source": []
  },
  {
   "cell_type": "code",
   "execution_count": null,
   "id": "2a5e28cd",
   "metadata": {},
   "outputs": [],
   "source": []
  },
  {
   "cell_type": "code",
   "execution_count": null,
   "id": "3b7cb347",
   "metadata": {},
   "outputs": [],
   "source": []
  },
  {
   "cell_type": "code",
   "execution_count": null,
   "id": "c5d48358",
   "metadata": {},
   "outputs": [],
   "source": []
  }
 ],
 "metadata": {
  "kernelspec": {
   "display_name": "Python 3 (ipykernel)",
   "language": "python",
   "name": "python3"
  },
  "language_info": {
   "codemirror_mode": {
    "name": "ipython",
    "version": 3
   },
   "file_extension": ".py",
   "mimetype": "text/x-python",
   "name": "python",
   "nbconvert_exporter": "python",
   "pygments_lexer": "ipython3",
   "version": "3.10.7"
  }
 },
 "nbformat": 4,
 "nbformat_minor": 5
}
