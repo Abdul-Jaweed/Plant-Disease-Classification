{
 "cells": [
  {
   "attachments": {},
   "cell_type": "markdown",
   "metadata": {},
   "source": [
    "# Data Ingestion Stage"
   ]
  },
  {
   "cell_type": "code",
   "execution_count": 1,
   "metadata": {},
   "outputs": [],
   "source": [
    "from collections import namedtuple\n",
    "import os"
   ]
  },
  {
   "cell_type": "code",
   "execution_count": null,
   "metadata": {},
   "outputs": [],
   "source": [
    "DataIngestionConfig = namedtuple(\"DataIngestionConfig\",[\n",
    "    \"root_dir\",\n",
    "    \"source_URL\",\n",
    "    \"local_data_file\",\n",
    "    \"unzip_dir\"\n",
    "])"
   ]
  },
  {
   "cell_type": "code",
   "execution_count": 2,
   "metadata": {},
   "outputs": [],
   "source": [
    "# First define artifacts on config.yaml\n",
    "\n",
    "# config entity\n",
    "\n",
    "from dataclasses import dataclass\n",
    "from pathlib import Path\n",
    "\n",
    "@dataclass(frozen=True)\n",
    "class DataIngestionConfig:\n",
    "    root_dir: Path\n",
    "    source_URL: Path\n",
    "    local_data_file: Path\n",
    "    unzip_dir: Path\n",
    "    \n",
    "\n",
    "# Add into config constructor __init__.py -> DataIngestionConfig"
   ]
  },
  {
   "cell_type": "code",
   "execution_count": 3,
   "metadata": {},
   "outputs": [],
   "source": [
    "from plant.constants import *\n",
    "from plant.utils import read_yaml, create_directories"
   ]
  },
  {
   "cell_type": "code",
   "execution_count": 4,
   "metadata": {},
   "outputs": [],
   "source": [
    "# Add on configuration.py\n",
    "\n",
    "class ConfigurationManager:\n",
    "    def __init__(\n",
    "        self,\n",
    "        config_filepath = CONFIG_FILE_PATH,\n",
    "        params_filepath = PARAMS_FILE_PATH):\n",
    "\n",
    "        self.config = read_yaml(config_filepath)\n",
    "        self.params = read_yaml(params_filepath)\n",
    "\n",
    "        create_directories([self.config.artifacts_root])\n",
    "\n",
    "    \n",
    "    def get_data_ingestion_config(self) -> DataIngestionConfig:\n",
    "        config = self.config.data_ingestion\n",
    "\n",
    "        create_directories([config.root_dir])\n",
    "\n",
    "        data_ingestion_config = DataIngestionConfig(\n",
    "            root_dir=config.root_dir,\n",
    "            source_URL=config.source_URL,\n",
    "            local_data_file=config.local_data_file,\n",
    "            unzip_dir=config.unzip_dir \n",
    "        )\n",
    "\n",
    "        return data_ingestion_config"
   ]
  },
  {
   "cell_type": "code",
   "execution_count": 5,
   "metadata": {},
   "outputs": [],
   "source": [
    "import os\n",
    "import urllib.request as request\n",
    "from urllib.request import urlretrieve as request\n",
    "from zipfile import ZipFile\n",
    "import boto3\n",
    "import pandas as pd"
   ]
  },
  {
   "cell_type": "code",
   "execution_count": 6,
   "metadata": {},
   "outputs": [],
   "source": [
    "# class DataIngestion:\n",
    "#     def __init__(self, config: DataIngestionConfig):\n",
    "#         self.config = config\n",
    "\n",
    "    \n",
    "#     def download_file(self):\n",
    "#         if not os.path.exists(self.config.local_data_file):\n",
    "#             filename, headers = request.urlretrieve(\n",
    "#                 url = self.config.source_URL,\n",
    "#                 filename = self.config.local_data_file\n",
    "#             )\n",
    "\n",
    "    \n",
    "#     def _get_updated_list_of_files(self, list_of_files):\n",
    "#         return [f for f in list_of_files if f.endswith(\".jpg\") and (\"train\" in f or \"test\" in f)]\n",
    "    \n",
    "    \n",
    "#     def _preprocess(self, zf: ZipFile, f: str, working_dir: str):\n",
    "#         target_filepath = os.path.join(working_dir, f)\n",
    "#         if not os.path.exists(target_filepath):\n",
    "#             zf.extract(f, working_dir)\n",
    "        \n",
    "#         if os.path.getsize(target_filepath) == 0:\n",
    "#             os.remove(target_filepath)\n",
    "\n",
    "    \n",
    "\n",
    "    \n",
    "#     def unzip_and_clean(self):\n",
    "#         with ZipFile(file=self.config.local_data_file, mode=\"r\") as zf:\n",
    "#             list_of_files = zf.namelist()\n",
    "#             updated_list_of_files = self._get_updated_list_of_files(list_of_files)\n",
    "#             for f in updated_list_of_files:\n",
    "#                 self._preprocess(zf, f, self.config.unzip_dir)\n",
    "\n",
    "\n",
    "\n",
    "\n",
    "\n",
    "\n",
    "# import os\n",
    "# from zipfile import ZipFile\n",
    "\n",
    "\n",
    "# class DataIngestion:\n",
    "#     def __init__(self, config):\n",
    "#         self.config = config\n",
    "\n",
    "#     def unzip_and_clean(self):\n",
    "#         with ZipFile(self.config.local_data_file, 'r') as zf:\n",
    "#             list_of_files = zf.namelist()\n",
    "#             updated_list_of_files = self._get_updated_list_of_files(list_of_files)\n",
    "#             for f in updated_list_of_files:\n",
    "#                 self._preprocess(zf, f, self.config.unzip_dir)\n",
    "\n",
    "#     def _get_updated_list_of_files(self, list_of_files):\n",
    "#         return [f for f in list_of_files if f.endswith(\".jpg\") and (\"train\" in f or \"test\" in f)]\n",
    "\n",
    "#     def _preprocess(self, zf, f, working_dir):\n",
    "#         target_filepath = os.path.join(working_dir, f)\n",
    "#         if not os.path.exists(target_filepath):\n",
    "#             zf.extract(f, working_dir)\n",
    "\n",
    "#         if os.path.getsize(target_filepath) == 0:\n",
    "#             os.remove(target_filepath)\n",
    "\n",
    "\n",
    "\n",
    "\n",
    "\n",
    "\n",
    "\n",
    "\n",
    "import os\n",
    "from urllib import request\n",
    "from zipfile import ZipFile\n",
    "\n",
    "\n",
    "class DataIngestion:\n",
    "    def __init__(self, config):\n",
    "        self.config = config\n",
    "\n",
    "    def download_file(self):\n",
    "        if not os.path.exists(self.config.local_data_file):\n",
    "            try:\n",
    "                request.urlretrieve(self.config.source_URL, self.config.local_data_file)\n",
    "            except Exception as e:\n",
    "                print(f\"Error occurred while downloading file: {e}\")\n",
    "\n",
    "    def _get_updated_list_of_files(self, list_of_files):\n",
    "        return [f for f in list_of_files if f.endswith(\".jpg\") and (\"train\" in f or \"test\" in f)]\n",
    "\n",
    "    def _preprocess(self, zf, f, working_dir):\n",
    "        target_filepath = os.path.join(working_dir, f)\n",
    "        if not os.path.exists(target_filepath):\n",
    "            zf.extract(f, working_dir)\n",
    "\n",
    "        if os.path.getsize(target_filepath) == 0:\n",
    "            os.remove(target_filepath)\n",
    "\n",
    "    def unzip_and_clean(self):\n",
    "        if os.path.exists(self.config.local_data_file):\n",
    "            with ZipFile(self.config.local_data_file, \"r\") as zf:\n",
    "                list_of_files = zf.namelist()\n",
    "                updated_list_of_files = self._get_updated_list_of_files(list_of_files)\n",
    "                for f in updated_list_of_files:\n",
    "                    self._preprocess(zf, f, self.config.unzip_dir)\n",
    "        else:\n",
    "            print(\"File to unzip does not exist.\")\n",
    "\n",
    "\n"
   ]
  },
  {
   "cell_type": "code",
   "execution_count": 11,
   "metadata": {},
   "outputs": [
    {
     "name": "stdout",
     "output_type": "stream",
     "text": [
      "[2023-05-30 14:22:44,836: INFO: common: yaml file: config\\config.yaml loaded successfully]\n",
      "[2023-05-30 14:22:44,839: INFO: common: yaml file: params.yaml loaded successfully]\n",
      "[2023-05-30 14:22:44,841: INFO: common: created directory at: artifacts]\n",
      "[2023-05-30 14:22:44,843: INFO: common: created directory at: artifacts/data_ingestion]\n",
      "Error occurred while downloading file: HTTP Error 403: Forbidden\n",
      "File to unzip does not exist.\n"
     ]
    }
   ],
   "source": [
    "try:\n",
    "    config = ConfigurationManager()\n",
    "    data_ingestion_config = config.get_data_ingestion_config()\n",
    "    data_ingestion = DataIngestion(config=data_ingestion_config)\n",
    "    data_ingestion.download_file()\n",
    "    data_ingestion.unzip_and_clean()\n",
    "except Exception as e:\n",
    "    raise e"
   ]
  },
  {
   "cell_type": "code",
   "execution_count": 7,
   "metadata": {},
   "outputs": [
    {
     "data": {
      "text/plain": [
       "'f:\\\\Plant Disease Classification\\\\Plant Disease Classification\\\\research\\\\Team Member Work\\\\Abdul Jaweed'"
      ]
     },
     "execution_count": 7,
     "metadata": {},
     "output_type": "execute_result"
    }
   ],
   "source": [
    "%pwd"
   ]
  },
  {
   "cell_type": "code",
   "execution_count": 8,
   "metadata": {},
   "outputs": [],
   "source": [
    "os.chdir(\"../\")"
   ]
  },
  {
   "cell_type": "code",
   "execution_count": 9,
   "metadata": {},
   "outputs": [
    {
     "data": {
      "text/plain": [
       "'f:\\\\Plant Disease Classification\\\\Plant Disease Classification\\\\research\\\\Team Member Work'"
      ]
     },
     "execution_count": 9,
     "metadata": {},
     "output_type": "execute_result"
    }
   ],
   "source": [
    "%pwd"
   ]
  },
  {
   "cell_type": "code",
   "execution_count": 10,
   "metadata": {},
   "outputs": [
    {
     "data": {
      "text/plain": [
       "'f:\\\\Plant Disease Classification\\\\Plant Disease Classification'"
      ]
     },
     "execution_count": 10,
     "metadata": {},
     "output_type": "execute_result"
    }
   ],
   "source": [
    "os.chdir(\"../\")\n",
    "os.chdir(\"../\")\n",
    "%pwd"
   ]
  },
  {
   "cell_type": "code",
   "execution_count": null,
   "metadata": {},
   "outputs": [],
   "source": []
  }
 ],
 "metadata": {
  "kernelspec": {
   "display_name": "Python 3",
   "language": "python",
   "name": "python3"
  },
  "language_info": {
   "codemirror_mode": {
    "name": "ipython",
    "version": 3
   },
   "file_extension": ".py",
   "mimetype": "text/x-python",
   "name": "python",
   "nbconvert_exporter": "python",
   "pygments_lexer": "ipython3",
   "version": "3.8.16"
  },
  "orig_nbformat": 4
 },
 "nbformat": 4,
 "nbformat_minor": 2
}
