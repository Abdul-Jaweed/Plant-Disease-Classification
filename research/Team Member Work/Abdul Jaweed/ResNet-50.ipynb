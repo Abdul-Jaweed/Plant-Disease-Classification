{
 "cells": [
  {
   "cell_type": "code",
   "execution_count": 1,
   "id": "38a953fb",
   "metadata": {},
   "outputs": [],
   "source": [
    "import os\n",
    "import numpy as np\n",
    "from tensorflow.keras.preprocessing.image import ImageDataGenerator\n",
    "from tensorflow.keras.applications import ResNet50\n",
    "from tensorflow.keras.models import Sequential\n",
    "from tensorflow.keras.layers import Dense, GlobalAveragePooling2D\n",
    "from tensorflow.keras.optimizers import Adam"
   ]
  },
  {
   "cell_type": "code",
   "execution_count": 2,
   "id": "3221a282",
   "metadata": {},
   "outputs": [],
   "source": [
    "# Set the path to your dataset\n",
    "\n",
    "data_dir = \"F:\\\\Plant Disease Classification\\\\mini\\\\train\""
   ]
  },
  {
   "cell_type": "code",
   "execution_count": 3,
   "id": "e4a71ce6",
   "metadata": {},
   "outputs": [],
   "source": [
    "# Set the input size of the model\n",
    "\n",
    "input_size = (224, 224)"
   ]
  },
  {
   "cell_type": "code",
   "execution_count": 4,
   "id": "ba68e75c",
   "metadata": {},
   "outputs": [],
   "source": [
    "# Set the batch size and number of classes\n",
    "\n",
    "batch_size = 32\n",
    "num_classes = 38"
   ]
  },
  {
   "cell_type": "code",
   "execution_count": 5,
   "id": "733f5241",
   "metadata": {},
   "outputs": [],
   "source": [
    "# Preprocess the input images\n",
    "\n",
    "data_generator = ImageDataGenerator(rescale=1./255, validation_split=0.2)"
   ]
  },
  {
   "cell_type": "code",
   "execution_count": 6,
   "id": "5eea3ccf",
   "metadata": {},
   "outputs": [
    {
     "name": "stdout",
     "output_type": "stream",
     "text": [
      "Found 6080 images belonging to 38 classes.\n"
     ]
    }
   ],
   "source": [
    "# Load and augment the training data\n",
    "\n",
    "train_generator = data_generator.flow_from_directory(\n",
    "    data_dir,\n",
    "    target_size=input_size,\n",
    "    batch_size=batch_size,\n",
    "    class_mode='categorical',\n",
    "    subset='training'\n",
    ")"
   ]
  },
  {
   "cell_type": "code",
   "execution_count": 7,
   "id": "be5fba71",
   "metadata": {},
   "outputs": [
    {
     "name": "stdout",
     "output_type": "stream",
     "text": [
      "Found 1520 images belonging to 38 classes.\n"
     ]
    }
   ],
   "source": [
    "# Load the validation data\n",
    "\n",
    "validation_generator = data_generator.flow_from_directory(\n",
    "    data_dir,\n",
    "    target_size=input_size,\n",
    "    batch_size=batch_size,\n",
    "    class_mode='categorical',\n",
    "    subset='validation'\n",
    ")"
   ]
  },
  {
   "cell_type": "code",
   "execution_count": 8,
   "id": "5ab25340",
   "metadata": {},
   "outputs": [],
   "source": [
    "# Load the pre-trained ResNet-50 model without the top (classification) layer\n",
    "\n",
    "resnet_model = ResNet50(weights='imagenet', include_top=False, input_shape=input_size + (3,))"
   ]
  },
  {
   "cell_type": "code",
   "execution_count": 9,
   "id": "06fe7342",
   "metadata": {},
   "outputs": [],
   "source": [
    "# Freeze the pre-trained layers\n",
    "\n",
    "for layer in resnet_model.layers:\n",
    "    layer.trainable = False"
   ]
  },
  {
   "cell_type": "code",
   "execution_count": 10,
   "id": "7a4c58dc",
   "metadata": {},
   "outputs": [],
   "source": [
    "# Create the final model\n",
    "\n",
    "resnet_classifier = Sequential()\n",
    "resnet_classifier.add(resnet_model)\n",
    "resnet_classifier.add(GlobalAveragePooling2D())\n",
    "resnet_classifier.add(Dense(512, activation='relu'))\n",
    "resnet_classifier.add(Dense(num_classes, activation='softmax'))"
   ]
  },
  {
   "cell_type": "code",
   "execution_count": 11,
   "id": "6bc08f60",
   "metadata": {},
   "outputs": [],
   "source": [
    "# Compile the model\n",
    "\n",
    "resnet_classifier.compile(optimizer=Adam(), loss='categorical_crossentropy', metrics=['accuracy'])"
   ]
  },
  {
   "cell_type": "code",
   "execution_count": 14,
   "id": "01a3116e",
   "metadata": {},
   "outputs": [
    {
     "name": "stdout",
     "output_type": "stream",
     "text": [
      "190/190 [==============================] - 590s 3s/step - loss: 3.3933 - accuracy: 0.0765 - val_loss: 3.2994 - val_accuracy: 0.0911\n"
     ]
    }
   ],
   "source": [
    "# Train the ResNet-50 model\n",
    "\n",
    "history = resnet_classifier.fit(\n",
    "    train_generator,\n",
    "    steps_per_epoch=train_generator.samples // batch_size,\n",
    "    validation_data=validation_generator,\n",
    "    validation_steps=validation_generator.samples // batch_size,\n",
    "    epochs=1\n",
    ")"
   ]
  },
  {
   "cell_type": "code",
   "execution_count": 16,
   "id": "bdd45a31",
   "metadata": {},
   "outputs": [],
   "source": [
    "# Get the validation accuracy from the history object\n",
    "\n",
    "validation_accuracy = history.history['val_accuracy']"
   ]
  },
  {
   "cell_type": "code",
   "execution_count": 18,
   "id": "ce88038c",
   "metadata": {},
   "outputs": [
    {
     "name": "stdout",
     "output_type": "stream",
     "text": [
      "Validation Accuracy: [0.09109042584896088]\n"
     ]
    }
   ],
   "source": [
    "print(\"Validation Accuracy:\", validation_accuracy)"
   ]
  },
  {
   "cell_type": "code",
   "execution_count": 24,
   "id": "9097e939",
   "metadata": {},
   "outputs": [
    {
     "name": "stdout",
     "output_type": "stream",
     "text": [
      "Found 380 images belonging to 38 classes.\n"
     ]
    }
   ],
   "source": [
    "# Set the path to your test dataset directory\n",
    "\n",
    "test_dir = \"F:\\\\Plant Disease Classification\\mini\\\\test\"\n",
    "\n",
    "# Load the test data\n",
    "\n",
    "test_generator = data_generator.flow_from_directory(\n",
    "    test_dir,\n",
    "    target_size=input_size,\n",
    "    batch_size=batch_size,\n",
    "    class_mode='categorical',\n",
    "    shuffle=False\n",
    ")"
   ]
  },
  {
   "cell_type": "code",
   "execution_count": 26,
   "id": "17d2cf32",
   "metadata": {},
   "outputs": [
    {
     "name": "stdout",
     "output_type": "stream",
     "text": [
      "12/12 [==============================] - 52s 4s/step - loss: 3.2766 - accuracy: 0.1105\n"
     ]
    }
   ],
   "source": [
    "# Evaluate the VGG16 model on the test data\n",
    "\n",
    "evaluation = resnet_classifier.evaluate(test_generator)\n",
    "\n",
    "# Get the evaluation score (accuracy)\n",
    "\n",
    "evaluation_score = evaluation[1]  # Index 1 corresponds to the accuracy value"
   ]
  },
  {
   "cell_type": "code",
   "execution_count": 27,
   "id": "b3c0f241",
   "metadata": {},
   "outputs": [
    {
     "name": "stdout",
     "output_type": "stream",
     "text": [
      "Evaluation Accuracy: 0.11052631586790085\n"
     ]
    }
   ],
   "source": [
    "print(\"Evaluation Accuracy:\", evaluation_score)"
   ]
  },
  {
   "cell_type": "code",
   "execution_count": null,
   "id": "34917fff",
   "metadata": {},
   "outputs": [],
   "source": []
  },
  {
   "cell_type": "code",
   "execution_count": null,
   "id": "fe6a650a",
   "metadata": {},
   "outputs": [],
   "source": []
  },
  {
   "cell_type": "code",
   "execution_count": null,
   "id": "c8b40939",
   "metadata": {},
   "outputs": [],
   "source": []
  }
 ],
 "metadata": {
  "kernelspec": {
   "display_name": "Python 3 (ipykernel)",
   "language": "python",
   "name": "python3"
  },
  "language_info": {
   "codemirror_mode": {
    "name": "ipython",
    "version": 3
   },
   "file_extension": ".py",
   "mimetype": "text/x-python",
   "name": "python",
   "nbconvert_exporter": "python",
   "pygments_lexer": "ipython3",
   "version": "3.10.7"
  }
 },
 "nbformat": 4,
 "nbformat_minor": 5
}
