{
 "cells": [
  {
   "cell_type": "code",
   "execution_count": 1,
   "id": "a9df6e8e",
   "metadata": {},
   "outputs": [],
   "source": [
    "import os\n",
    "import numpy as np\n",
    "from tensorflow.keras.preprocessing.image import ImageDataGenerator\n",
    "from tensorflow.keras.applications import VGG16\n",
    "from tensorflow.keras.models import Sequential\n",
    "from tensorflow.keras.layers import Dense, GlobalAveragePooling2D\n",
    "from tensorflow.keras.optimizers import Adam"
   ]
  },
  {
   "cell_type": "code",
   "execution_count": 8,
   "id": "b6023a52",
   "metadata": {},
   "outputs": [],
   "source": [
    "# Set the path to your dataset\n",
    "\n",
    "data_dir = \"C://Users//ideapad//Desktop//projects//plant_disease//mini//train\""
   ]
  },
  {
   "cell_type": "code",
   "execution_count": 9,
   "id": "4822faac",
   "metadata": {},
   "outputs": [],
   "source": [
    "# Set the input size of the model\n",
    "\n",
    "input_size = (224, 224)"
   ]
  },
  {
   "cell_type": "code",
   "execution_count": 10,
   "id": "adfbf52d",
   "metadata": {},
   "outputs": [],
   "source": [
    "# Set the batch size and number of classes\n",
    "\n",
    "batch_size = 32\n",
    "num_classes = 38"
   ]
  },
  {
   "cell_type": "code",
   "execution_count": 11,
   "id": "2e493dd3",
   "metadata": {},
   "outputs": [],
   "source": [
    "# Preprocess the input images\n",
    "\n",
    "data_generator = ImageDataGenerator(rescale=1./255, validation_split=0.2)"
   ]
  },
  {
   "cell_type": "code",
   "execution_count": 12,
   "id": "68609f96",
   "metadata": {},
   "outputs": [
    {
     "name": "stdout",
     "output_type": "stream",
     "text": [
      "Found 6080 images belonging to 38 classes.\n"
     ]
    }
   ],
   "source": [
    "# Load and augment the training data\n",
    "\n",
    "train_generator = data_generator.flow_from_directory(\n",
    "    data_dir,\n",
    "    target_size=input_size,\n",
    "    batch_size=batch_size,\n",
    "    class_mode='categorical',\n",
    "    subset='training'\n",
    ")"
   ]
  },
  {
   "cell_type": "code",
   "execution_count": 13,
   "id": "6a6ca95f",
   "metadata": {},
   "outputs": [
    {
     "name": "stdout",
     "output_type": "stream",
     "text": [
      "Found 1520 images belonging to 38 classes.\n"
     ]
    }
   ],
   "source": [
    "# Load the validation data\n",
    "\n",
    "validation_generator = data_generator.flow_from_directory(\n",
    "    data_dir,\n",
    "    target_size=input_size,\n",
    "    batch_size=batch_size,\n",
    "    class_mode='categorical',\n",
    "    subset='validation'\n",
    ")"
   ]
  },
  {
   "cell_type": "code",
   "execution_count": 14,
   "id": "b5eaeb58",
   "metadata": {},
   "outputs": [
    {
     "name": "stdout",
     "output_type": "stream",
     "text": [
      "Downloading data from https://storage.googleapis.com/tensorflow/keras-applications/vgg16/vgg16_weights_tf_dim_ordering_tf_kernels_notop.h5\n",
      "58889256/58889256 [==============================] - 19s 0us/step\n"
     ]
    }
   ],
   "source": [
    "# Load the pre-trained VGG16 model without the top (classification) layer\n",
    "\n",
    "vgg_model = VGG16(weights='imagenet', include_top=False, input_shape=input_size + (3,))"
   ]
  },
  {
   "cell_type": "code",
   "execution_count": 16,
   "id": "adad2a46",
   "metadata": {},
   "outputs": [],
   "source": [
    "# Freeze the pre-trained layers\n",
    "\n",
    "for layer in vgg_model.layers:\n",
    "    layer.trainable = False"
   ]
  },
  {
   "cell_type": "code",
   "execution_count": 17,
   "id": "1b979904",
   "metadata": {},
   "outputs": [],
   "source": [
    "# Create the final model\n",
    "\n",
    "vgg_classifier = Sequential()\n",
    "vgg_classifier.add(vgg_model)\n",
    "vgg_classifier.add(GlobalAveragePooling2D())\n",
    "vgg_classifier.add(Dense(512, activation='relu'))\n",
    "vgg_classifier.add(Dense(num_classes, activation='softmax'))"
   ]
  },
  {
   "cell_type": "code",
   "execution_count": 18,
   "id": "f846de41",
   "metadata": {},
   "outputs": [],
   "source": [
    "# Compile the model\n",
    "\n",
    "vgg_classifier.compile(optimizer=Adam(), loss='categorical_crossentropy', metrics=['accuracy'])"
   ]
  },
  {
   "cell_type": "code",
   "execution_count": 19,
   "id": "9408236a",
   "metadata": {},
   "outputs": [
    {
     "name": "stdout",
     "output_type": "stream",
     "text": [
      "190/190 [==============================] - 690s 4s/step - loss: 2.5178 - accuracy: 0.3998 - val_loss: 1.5941 - val_accuracy: 0.6230\n"
     ]
    }
   ],
   "source": [
    "# Train the VGG16 model\n",
    "\n",
    "history = vgg_classifier.fit(\n",
    "    train_generator,\n",
    "    steps_per_epoch=train_generator.samples // batch_size,\n",
    "    validation_data=validation_generator,\n",
    "    validation_steps=validation_generator.samples // batch_size,\n",
    "    epochs=1\n",
    ")"
   ]
  },
  {
   "cell_type": "code",
   "execution_count": 20,
   "id": "f4569991",
   "metadata": {},
   "outputs": [],
   "source": [
    "# Get the validation accuracy from the history object\n",
    "\n",
    "validation_accuracy = history.history['val_accuracy']"
   ]
  },
  {
   "cell_type": "code",
   "execution_count": 21,
   "id": "707326e7",
   "metadata": {},
   "outputs": [
    {
     "name": "stdout",
     "output_type": "stream",
     "text": [
      "Validation Accuracy: [0.6230053305625916]\n"
     ]
    }
   ],
   "source": [
    "print(\"Validation Accuracy:\", validation_accuracy)"
   ]
  },
  {
   "cell_type": "code",
   "execution_count": 25,
   "id": "fee5e2a9",
   "metadata": {},
   "outputs": [
    {
     "name": "stdout",
     "output_type": "stream",
     "text": [
      "Found 380 images belonging to 38 classes.\n"
     ]
    }
   ],
   "source": [
    "# Set the path to your test dataset directory\n",
    "\n",
    "test_dir = \"C://Users//ideapad//Desktop//projects//plant_disease//mini//test\"\n",
    "\n",
    "# Load the test data\n",
    "\n",
    "test_generator = data_generator.flow_from_directory(\n",
    "    test_dir,\n",
    "    target_size=input_size,\n",
    "    batch_size=batch_size,\n",
    "    class_mode='categorical',\n",
    "    shuffle=False\n",
    ")"
   ]
  },
  {
   "cell_type": "code",
   "execution_count": 26,
   "id": "a80e0e02",
   "metadata": {},
   "outputs": [
    {
     "name": "stdout",
     "output_type": "stream",
     "text": [
      "12/12 [==============================] - 32s 3s/step - loss: 1.5417 - accuracy: 0.6789\n"
     ]
    }
   ],
   "source": [
    "# Evaluate the VGG16 model on the test data\n",
    "\n",
    "evaluation = vgg_classifier.evaluate(test_generator)\n",
    "\n",
    "# Get the evaluation score (accuracy)\n",
    "\n",
    "evaluation_score = evaluation[1]  # Index 1 corresponds to the accuracy value"
   ]
  },
  {
   "cell_type": "code",
   "execution_count": 27,
   "id": "3cc27e3b",
   "metadata": {},
   "outputs": [
    {
     "name": "stdout",
     "output_type": "stream",
     "text": [
      "Evaluation Accuracy: 0.678947389125824\n"
     ]
    }
   ],
   "source": [
    "print(\"Evaluation Accuracy:\", evaluation_score)"
   ]
  },
  {
   "cell_type": "code",
   "execution_count": null,
   "id": "fa90b34c",
   "metadata": {},
   "outputs": [],
   "source": []
  },
  {
   "cell_type": "markdown",
   "id": "c4177a71",
   "metadata": {},
   "source": [
    "# Epoch = 5"
   ]
  },
  {
   "cell_type": "code",
   "execution_count": 28,
   "id": "6912c19a",
   "metadata": {},
   "outputs": [
    {
     "name": "stdout",
     "output_type": "stream",
     "text": [
      "Epoch 1/5\n",
      "190/190 [==============================] - 699s 4s/step - loss: 1.2058 - accuracy: 0.7026 - val_loss: 0.9997 - val_accuracy: 0.7327\n",
      "Epoch 2/5\n",
      "190/190 [==============================] - 1081s 6s/step - loss: 0.8460 - accuracy: 0.7664 - val_loss: 0.7685 - val_accuracy: 0.7846\n",
      "Epoch 3/5\n",
      "190/190 [==============================] - 1077s 6s/step - loss: 0.6773 - accuracy: 0.8089 - val_loss: 0.6805 - val_accuracy: 0.7846\n",
      "Epoch 4/5\n",
      "190/190 [==============================] - 1683s 9s/step - loss: 0.5818 - accuracy: 0.8283 - val_loss: 0.5892 - val_accuracy: 0.8298\n",
      "Epoch 5/5\n",
      "190/190 [==============================] - 1824s 10s/step - loss: 0.5032 - accuracy: 0.8536 - val_loss: 0.5287 - val_accuracy: 0.8398\n"
     ]
    }
   ],
   "source": [
    "# Train the VGG16 model\n",
    "\n",
    "history = vgg_classifier.fit(\n",
    "    train_generator,\n",
    "    steps_per_epoch=train_generator.samples // batch_size,\n",
    "    validation_data=validation_generator,\n",
    "    validation_steps=validation_generator.samples // batch_size,\n",
    "    epochs=5\n",
    ")"
   ]
  },
  {
   "cell_type": "code",
   "execution_count": 29,
   "id": "73c3ada7",
   "metadata": {},
   "outputs": [
    {
     "name": "stdout",
     "output_type": "stream",
     "text": [
      "Validation Accuracy: [0.7327127456665039, 0.7845744490623474, 0.7845744490623474, 0.8297872543334961, 0.8397606611251831]\n"
     ]
    }
   ],
   "source": [
    "# Get the validation accuracy from the history object\n",
    "\n",
    "validation_accuracy = history.history['val_accuracy']\n",
    "\n",
    "print(\"Validation Accuracy:\", validation_accuracy)"
   ]
  },
  {
   "cell_type": "code",
   "execution_count": 30,
   "id": "d0cb1e07",
   "metadata": {},
   "outputs": [
    {
     "name": "stdout",
     "output_type": "stream",
     "text": [
      "Found 380 images belonging to 38 classes.\n"
     ]
    }
   ],
   "source": [
    "# Set the path to your test dataset directory\n",
    "\n",
    "test_dir = \"C://Users//ideapad//Desktop//projects//plant_disease//mini//test\"\n",
    "\n",
    "\n",
    "# Load the test data\n",
    "\n",
    "test_generator = data_generator.flow_from_directory(\n",
    "    test_dir,\n",
    "    target_size=input_size,\n",
    "    batch_size=batch_size,\n",
    "    class_mode='categorical',\n",
    "    shuffle=False\n",
    ")"
   ]
  },
  {
   "cell_type": "code",
   "execution_count": 31,
   "id": "294b1c7a",
   "metadata": {},
   "outputs": [
    {
     "name": "stdout",
     "output_type": "stream",
     "text": [
      "12/12 [==============================] - 35s 3s/step - loss: 0.4682 - accuracy: 0.8789\n"
     ]
    }
   ],
   "source": [
    "# Evaluate the VGG16 model on the test data\n",
    "\n",
    "evaluation = vgg_classifier.evaluate(test_generator)\n",
    "\n",
    "# Get the evaluation score (accuracy)\n",
    "\n",
    "evaluation_score = evaluation[1]  # Index 1 corresponds to the accuracy value"
   ]
  },
  {
   "cell_type": "code",
   "execution_count": 32,
   "id": "10b84cf8",
   "metadata": {},
   "outputs": [
    {
     "name": "stdout",
     "output_type": "stream",
     "text": [
      "Evaluation Accuracy: 0.878947377204895\n"
     ]
    }
   ],
   "source": [
    "print(\"Evaluation Accuracy:\", evaluation_score)"
   ]
  },
  {
   "cell_type": "code",
   "execution_count": null,
   "id": "4f3c42d9",
   "metadata": {},
   "outputs": [],
   "source": []
  },
  {
   "cell_type": "markdown",
   "id": "99b311be",
   "metadata": {},
   "source": [
    "# Epochs = 10"
   ]
  },
  {
   "cell_type": "code",
   "execution_count": 33,
   "id": "908a8f61",
   "metadata": {},
   "outputs": [
    {
     "name": "stdout",
     "output_type": "stream",
     "text": [
      "Epoch 1/10\n",
      "190/190 [==============================] - 2036s 11s/step - loss: 0.4473 - accuracy: 0.8648 - val_loss: 0.5010 - val_accuracy: 0.8444\n",
      "Epoch 2/10\n",
      "190/190 [==============================] - 2547s 13s/step - loss: 0.4120 - accuracy: 0.8752 - val_loss: 0.4883 - val_accuracy: 0.8457\n",
      "Epoch 3/10\n",
      "190/190 [==============================] - 698s 4s/step - loss: 0.3702 - accuracy: 0.8906 - val_loss: 0.4619 - val_accuracy: 0.8497\n",
      "Epoch 4/10\n",
      "190/190 [==============================] - 1317s 7s/step - loss: 0.3421 - accuracy: 0.9023 - val_loss: 0.4215 - val_accuracy: 0.8657\n",
      "Epoch 5/10\n",
      "190/190 [==============================] - 700s 4s/step - loss: 0.3160 - accuracy: 0.9053 - val_loss: 0.4311 - val_accuracy: 0.8650\n",
      "Epoch 6/10\n",
      "190/190 [==============================] - 1019s 5s/step - loss: 0.2910 - accuracy: 0.9168 - val_loss: 0.3794 - val_accuracy: 0.8723\n",
      "Epoch 7/10\n",
      "190/190 [==============================] - 766s 4s/step - loss: 0.2679 - accuracy: 0.9217 - val_loss: 0.3943 - val_accuracy: 0.8770\n",
      "Epoch 8/10\n",
      "190/190 [==============================] - 699s 4s/step - loss: 0.2544 - accuracy: 0.9268 - val_loss: 0.3865 - val_accuracy: 0.8723\n",
      "Epoch 9/10\n",
      "190/190 [==============================] - 698s 4s/step - loss: 0.2411 - accuracy: 0.9240 - val_loss: 0.3717 - val_accuracy: 0.8803\n",
      "Epoch 10/10\n",
      "190/190 [==============================] - 698s 4s/step - loss: 0.2209 - accuracy: 0.9375 - val_loss: 0.3493 - val_accuracy: 0.8810\n"
     ]
    }
   ],
   "source": [
    "# Train the VGG16 model\n",
    "\n",
    "history = vgg_classifier.fit(\n",
    "    train_generator,\n",
    "    steps_per_epoch=train_generator.samples // batch_size,\n",
    "    validation_data=validation_generator,\n",
    "    validation_steps=validation_generator.samples // batch_size,\n",
    "    epochs=10\n",
    ")"
   ]
  },
  {
   "cell_type": "code",
   "execution_count": 34,
   "id": "b6c5a126",
   "metadata": {},
   "outputs": [
    {
     "name": "stdout",
     "output_type": "stream",
     "text": [
      "Validation Accuracy: [0.8444148898124695, 0.8457446694374084, 0.8497340679168701, 0.8656914830207825, 0.865026593208313, 0.8723404407501221, 0.8769946694374084, 0.8723404407501221, 0.8803191781044006, 0.8809840679168701]\n"
     ]
    }
   ],
   "source": [
    "# Get the validation accuracy from the history object\n",
    "\n",
    "validation_accuracy = history.history['val_accuracy']\n",
    "\n",
    "print(\"Validation Accuracy:\", validation_accuracy)"
   ]
  },
  {
   "cell_type": "code",
   "execution_count": 35,
   "id": "114661e1",
   "metadata": {},
   "outputs": [
    {
     "name": "stdout",
     "output_type": "stream",
     "text": [
      "Found 380 images belonging to 38 classes.\n"
     ]
    }
   ],
   "source": [
    "# Set the path to your test dataset directory\n",
    "\n",
    "test_dir = \"C://Users//ideapad//Desktop//projects//plant_disease//mini//test\"\n",
    "\n",
    "\n",
    "# Load the test data\n",
    "\n",
    "test_generator = data_generator.flow_from_directory(\n",
    "    test_dir,\n",
    "    target_size=input_size,\n",
    "    batch_size=batch_size,\n",
    "    class_mode='categorical',\n",
    "    shuffle=False\n",
    ")"
   ]
  },
  {
   "cell_type": "code",
   "execution_count": 36,
   "id": "75a9f36b",
   "metadata": {},
   "outputs": [
    {
     "name": "stdout",
     "output_type": "stream",
     "text": [
      "12/12 [==============================] - 35s 3s/step - loss: 0.3319 - accuracy: 0.8868\n"
     ]
    }
   ],
   "source": [
    "# Evaluate the VGG16 model on the test data\n",
    "\n",
    "evaluation = vgg_classifier.evaluate(test_generator)\n",
    "\n",
    "# Get the evaluation score (accuracy)\n",
    "\n",
    "evaluation_score = evaluation[1]  # Index 1 corresponds to the accuracy value"
   ]
  },
  {
   "cell_type": "code",
   "execution_count": 37,
   "id": "dc8bb660",
   "metadata": {},
   "outputs": [
    {
     "name": "stdout",
     "output_type": "stream",
     "text": [
      "Evaluation Accuracy: 0.8868421316146851\n"
     ]
    }
   ],
   "source": [
    "print(\"Evaluation Accuracy:\", evaluation_score)"
   ]
  },
  {
   "cell_type": "code",
   "execution_count": null,
   "id": "1b4fc1e1",
   "metadata": {},
   "outputs": [],
   "source": []
  },
  {
   "cell_type": "code",
   "execution_count": null,
   "id": "2a5e28cd",
   "metadata": {},
   "outputs": [],
   "source": []
  },
  {
   "cell_type": "code",
   "execution_count": null,
   "id": "3b7cb347",
   "metadata": {},
   "outputs": [],
   "source": []
  },
  {
   "cell_type": "code",
   "execution_count": null,
   "id": "c5d48358",
   "metadata": {},
   "outputs": [],
   "source": []
  }
 ],
 "metadata": {
  "kernelspec": {
   "display_name": "Python 3 (ipykernel)",
   "language": "python",
   "name": "python3"
  },
  "language_info": {
   "codemirror_mode": {
    "name": "ipython",
    "version": 3
   },
   "file_extension": ".py",
   "mimetype": "text/x-python",
   "name": "python",
   "nbconvert_exporter": "python",
   "pygments_lexer": "ipython3",
   "version": "3.10.9"
  }
 },
 "nbformat": 4,
 "nbformat_minor": 5
}
